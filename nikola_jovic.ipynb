{
 "cells": [
  {
   "cell_type": "code",
   "execution_count": 1,
   "metadata": {},
   "outputs": [],
   "source": [
    "import triple_double"
   ]
  },
  {
   "cell_type": "code",
   "execution_count": 2,
   "metadata": {},
   "outputs": [
    {
     "name": "stdout",
     "output_type": "stream",
     "text": [
      "-----------TRIPLE-DOUBLE REPORT NIKOLA JOKIC-----------\n",
      "\n",
      "Total of Triple-Doubles: 10\n",
      "Total of games: 18\n",
      "Percentage of Triple-Doubles: 55.56%\n",
      "Avg of Points: 30.5\n",
      "Avg of Rebounds: 13.39\n",
      "Avg of Assists: 10.11\n",
      "Avg of Steals: 1.0\n",
      "Avg of Blocks: 0.89\n",
      "\n"
     ]
    }
   ],
   "source": [
    "# Example usage of the function\n",
    "selected_player = 'Nikola Jokic'\n",
    "season = '2022-23'\n",
    "season_type = 'Playoffs'\n",
    "\n",
    "jokic_report = triple_double.get_player_triple_double_report(selected_player, season, season_type)\n",
    "jokic_report"
   ]
  }
 ],
 "metadata": {
  "kernelspec": {
   "display_name": "Python 3",
   "language": "python",
   "name": "python3"
  },
  "language_info": {
   "codemirror_mode": {
    "name": "ipython",
    "version": 3
   },
   "file_extension": ".py",
   "mimetype": "text/x-python",
   "name": "python",
   "nbconvert_exporter": "python",
   "pygments_lexer": "ipython3",
   "version": "3.9.6"
  },
  "orig_nbformat": 4
 },
 "nbformat": 4,
 "nbformat_minor": 2
}
